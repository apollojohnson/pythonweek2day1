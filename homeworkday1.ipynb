{
 "cells": [
  {
   "cell_type": "markdown",
   "metadata": {},
   "source": [
    "### Exercise #1 <br>\n",
    "<p>Filter out all of the empty strings from the list below</p>\n",
    "\n",
    "`Output: ['Argentina', 'San Diego', 'Boston', 'New York']`"
   ]
  },
  {
   "cell_type": "code",
   "execution_count": 19,
   "metadata": {},
   "outputs": [
    {
     "name": "stdout",
     "output_type": "stream",
     "text": [
      "['Argentina', 'San Diego', 'Boston', 'New York']\n"
     ]
    }
   ],
   "source": [
    "places = [\" \",\"Argentina\", \" \", \"San Diego\",\"\",\"  \",\"\",\"Boston\",\"New York\"]\n",
    "\n",
    "def places_names(name):\n",
    "    if len(name) <= 2:\n",
    "        return False\n",
    "    else:\n",
    "        return True\n",
    "    \n",
    "new_places = list(filter(places_names, places))\n",
    "print(new_places)"
   ]
  },
  {
   "cell_type": "markdown",
   "metadata": {},
   "source": [
    "### Exercise #2 <br>\n",
    "<p>Write an anonymous function that sorts this list by the last name...<br>\n",
    "\n",
    "`Output: ['Victor aNisimov', 'Gary A.J. Bernstein', 'Joel Carter', 'Andrew P. Garfield', 'David hassELHOFF']`"
   ]
  },
  {
   "cell_type": "code",
   "execution_count": 44,
   "metadata": {},
   "outputs": [
    {
     "name": "stdout",
     "output_type": "stream",
     "text": [
      "['Andrew P. Garfield', 'David hassELHOFF', 'Gary A.J. Bernstein', 'Joel Carter', 'Victor aNisimov']\n",
      "<function <lambda> at 0x00000265A34E5310>\n"
     ]
    }
   ],
   "source": [
    "author = [\"Joel Carter\", \"Victor aNisimov\", \"Andrew P. Garfield\",\"David hassELHOFF\",\"Gary A.J. Bernstein\"]\n",
    "\n",
    "print(sorted(author, key=str.lower))\n",
    "\n",
    "# I can't figure out how this can sort by last name :(\n",
    "\n",
    "author_sorted = lambda author: author.sort()\n",
    "print(author_sorted)\n"
   ]
  },
  {
   "cell_type": "markdown",
   "metadata": {},
   "source": [
    "### Exercise #3 <br>\n",
    "<p>Convert the list below from Celsius to Farhenheit, using the map function with a lambda...</p>\n",
    "\n",
    "`Output: [('Nashua', 89.6), ('Boston', 53.6), ('Los Angelos', 111.2), ('Miami', 84.2)]\n",
    "`"
   ]
  },
  {
   "cell_type": "code",
   "execution_count": 73,
   "metadata": {},
   "outputs": [
    {
     "name": "stdout",
     "output_type": "stream",
     "text": [
      "[89.6, 53.6, 111.2, 84.2]\n"
     ]
    }
   ],
   "source": [
    "# places = [('Nashua',32),(\"Boston\",12),(\"Los Angelos\",44),(\"Miami\",29)]\n",
    "places = [32,12,44,29]\n",
    "\n",
    "def celcius(places):\n",
    "    if int:\n",
    "        return places*(9/5)+32\n",
    "    else:\n",
    "        return places\n",
    "\n",
    "places_new = list(map(celcius, places))\n",
    "print(places_new)\n",
    "\n",
    "# cant figure out how to split the tuples properly, but was able to get it working when\n",
    "# only the integers were there. I'm thinking I can use rsplit() but I'm not sure where it goes."
   ]
  },
  {
   "cell_type": "markdown",
   "metadata": {},
   "source": [
    "### Exercise #4 <br>\n",
    "<p>Write a recursion function to perform the fibonacci sequence up to the number passed in.</p>\n",
    "\n",
    "`Output for fib(5) => \n",
    "Iteration 0: 1\n",
    "Iteration 1: 1\n",
    "Iteration 2: 2\n",
    "Iteration 3: 3\n",
    "Iteration 4: 5\n",
    "Iteration 5: 8`"
   ]
  },
  {
   "cell_type": "code",
   "execution_count": 153,
   "metadata": {},
   "outputs": [
    {
     "name": "stdout",
     "output_type": "stream",
     "text": [
      "Output for fib(5) =>\n",
      "Iteration 0: 1\n",
      "Iteration 1: 1\n",
      "Iteration 2: 2\n",
      "Iteration 3: 3\n",
      "Iteration 4: 5\n",
      "Iteration 5: 8\n"
     ]
    }
   ],
   "source": [
    "def fib(num):\n",
    "    if num==1:\n",
    "        return 0\n",
    "    elif num==2:\n",
    "        return 1\n",
    "    else:\n",
    "        return fib(num-1)+fib(num-2)\n",
    "\n",
    "num=5\n",
    "    \n",
    "print(\"Output for fib(5) =>\")\n",
    "print(f\"Iteration {num-num}: {fib(2)}\")\n",
    "print(f\"Iteration {num-(num-1)}: {fib(3)}\")\n",
    "print(f\"Iteration {num-(num-2)}: {fib(4)}\")\n",
    "print(f\"Iteration {num-(num-3)}: {fib(5)}\")\n",
    "print(f\"Iteration {num-(num-4)}: {fib(6)}\")\n",
    "print(f\"Iteration {num-(num-5)}: {fib(7)}\")"
   ]
  }
 ],
 "metadata": {
  "kernelspec": {
   "display_name": "Python 3",
   "language": "python",
   "name": "python3"
  },
  "language_info": {
   "codemirror_mode": {
    "name": "ipython",
    "version": 3
   },
   "file_extension": ".py",
   "mimetype": "text/x-python",
   "name": "python",
   "nbconvert_exporter": "python",
   "pygments_lexer": "ipython3",
   "version": "3.8.5"
  }
 },
 "nbformat": 4,
 "nbformat_minor": 4
}
